{
 "cells": [
  {
   "cell_type": "code",
   "execution_count": null,
   "metadata": {},
   "outputs": [],
   "source": [
    "import pandas as pd"
   ]
  },
  {
   "cell_type": "code",
   "execution_count": null,
   "metadata": {},
   "outputs": [],
   "source": [
    "url = 'https://raw.githubusercontent.com/digipodium/Datasets/main/regression/ames_housing_no_missing.csv'\n",
    "df = pd.read_csv(url)\n",
    "df.head(2)"
   ]
  },
  {
   "cell_type": "code",
   "execution_count": null,
   "metadata": {},
   "outputs": [],
   "source": [
    "num_data = df.select_dtypes(include='number')\n",
    "num_data.head(2)"
   ]
  },
  {
   "cell_type": "code",
   "execution_count": null,
   "metadata": {},
   "outputs": [],
   "source": [
    "from sklearn.decomposition import PCA\n",
    "from sklearn.preprocessing import StandardScaler"
   ]
  },
  {
   "cell_type": "code",
   "execution_count": null,
   "metadata": {},
   "outputs": [],
   "source": [
    "scaler = StandardScaler()\n",
    "num_data_scaled = scaler.fit_transform(num_data)\n",
    "n = 3\n",
    "pca = PCA(n_components=n)\n",
    "pca_data = pca.fit_transform(num_data_scaled)\n",
    "pca_df = pd.DataFrame(pca_data, columns=[f'pc{i}' for i in range(n)])\n",
    "pca_df.head(2)"
   ]
  },
  {
   "cell_type": "code",
   "execution_count": null,
   "metadata": {},
   "outputs": [],
   "source": [
    "import plotly.express as px\n",
    "fig = px.scatter_3d(pca_df, x='pc0', y='pc1', z='pc2')\n",
    "fig"
   ]
  },
  {
   "cell_type": "code",
   "execution_count": 17,
   "metadata": {},
   "outputs": [
    {
     "data": {
      "text/plain": [
       "array([[5.90674793e+01, 7.47651057e+01, 1.18511337e+04, ...,\n",
       "        6.43871197e+00, 2.00776941e+03, 2.16592984e+05],\n",
       "       [4.89509078e+01, 7.04622772e+01, 1.09309586e+04, ...,\n",
       "        6.23584600e+00, 2.00786909e+03, 1.83206321e+05],\n",
       "       [5.78929010e+01, 7.56469441e+01, 1.21584593e+04, ...,\n",
       "        6.44185158e+00, 2.00777189e+03, 2.23102362e+05],\n",
       "       ...,\n",
       "       [7.95450400e+01, 7.17170461e+01, 1.01886498e+04, ...,\n",
       "        6.62215049e+00, 2.00764504e+03, 1.95776769e+05],\n",
       "       [4.39068493e+01, 6.15052148e+01, 8.42995085e+03, ...,\n",
       "        6.00307517e+00, 2.00796362e+03, 1.15348440e+05],\n",
       "       [4.63309857e+01, 6.75718167e+01, 1.01601528e+04, ...,\n",
       "        6.14898855e+00, 2.00790659e+03, 1.61206726e+05]])"
      ]
     },
     "execution_count": 17,
     "metadata": {},
     "output_type": "execute_result"
    }
   ],
   "source": [
    "pca.inverse_transform(pca_data)"
   ]
  },
  {
   "cell_type": "code",
   "execution_count": null,
   "metadata": {},
   "outputs": [],
   "source": []
  }
 ],
 "metadata": {
  "kernelspec": {
   "display_name": "mlbatch24",
   "language": "python",
   "name": "python3"
  },
  "language_info": {
   "codemirror_mode": {
    "name": "ipython",
    "version": 3
   },
   "file_extension": ".py",
   "mimetype": "text/x-python",
   "name": "python",
   "nbconvert_exporter": "python",
   "pygments_lexer": "ipython3",
   "version": "3.11.8"
  }
 },
 "nbformat": 4,
 "nbformat_minor": 2
}
