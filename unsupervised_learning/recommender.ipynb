{
 "cells": [
  {
   "cell_type": "code",
   "execution_count": null,
   "metadata": {},
   "outputs": [],
   "source": [
    "import pandas as pd\n",
    "import numpy as np\n",
    "from nltk.corpus import stopwords\n",
    "import textblob\n",
    "from sklearn.feature_extraction.text import CountVectorizer, TfidfVectorizer\n",
    "from sklearn.metrics.pairwise import cosine_similarity"
   ]
  },
  {
   "cell_type": "code",
   "execution_count": null,
   "metadata": {},
   "outputs": [],
   "source": [
    "url = '../data/imdb_clean.csv'\n",
    "df = pd.read_csv(url)\n",
    "df.head()"
   ]
  },
  {
   "cell_type": "code",
   "execution_count": null,
   "metadata": {},
   "outputs": [],
   "source": [
    "df['data'] = df['title'] + ' ' + df['director'] + ' ' + df['genre']\n",
    "df['data']"
   ]
  },
  {
   "cell_type": "code",
   "execution_count": 9,
   "metadata": {},
   "outputs": [],
   "source": [
    "# remove punctuation - anything that is not a word or a space\n",
    "df['data'] = df['data'].str.replace('[^\\w\\s]','') \n",
    "# lower case\n",
    "df['data'] = df['data'].str.lower()"
   ]
  },
  {
   "cell_type": "code",
   "execution_count": 10,
   "metadata": {},
   "outputs": [
    {
     "data": {
      "text/plain": [
       "0       shawshank redemption frank darabont drama\n",
       "1            godfather francis ford coppola crime\n",
       "2            godfather francis ford coppola drama\n",
       "3            dark knight christopher nolan action\n",
       "4             dark knight christopher nolan crime\n",
       "                          ...                    \n",
       "2527             invisible man james whale horror\n",
       "2528             invisible man james whale sci-fi\n",
       "2529                cell 211 daniel monzón action\n",
       "2530                 cell 211 daniel monzón crime\n",
       "2531                 cell 211 daniel monzón drama\n",
       "Name: data, Length: 2532, dtype: object"
      ]
     },
     "execution_count": 10,
     "metadata": {},
     "output_type": "execute_result"
    }
   ],
   "source": [
    "def remove_stopwords(text):\n",
    "    words = text.split()\n",
    "    return \" \".join([word for word in words if word not in stopwords.words('english')])\n",
    "\n",
    "df['data'] = df['data'].apply(remove_stopwords)\n",
    "df['data']"
   ]
  },
  {
   "cell_type": "code",
   "execution_count": 17,
   "metadata": {},
   "outputs": [
    {
     "data": {
      "text/plain": [
       "(2532, 2267)"
      ]
     },
     "execution_count": 17,
     "metadata": {},
     "output_type": "execute_result"
    }
   ],
   "source": [
    "# vectorize the data\n",
    "vectorizer = CountVectorizer()\n",
    "X = vectorizer.fit_transform(df['data']).toarray()\n",
    "X.shape"
   ]
  },
  {
   "cell_type": "code",
   "execution_count": 21,
   "metadata": {},
   "outputs": [
    {
     "data": {
      "text/plain": [
       "array([[1. , 0. , 0.2, ..., 0. , 0. , 0.2],\n",
       "       [0. , 1. , 0.8, ..., 0. , 0.2, 0. ],\n",
       "       [0.2, 0.8, 1. , ..., 0. , 0. , 0.2],\n",
       "       ...,\n",
       "       [0. , 0. , 0. , ..., 1. , 0.8, 0.8],\n",
       "       [0. , 0.2, 0. , ..., 0.8, 1. , 0.8],\n",
       "       [0.2, 0. , 0.2, ..., 0.8, 0.8, 1. ]])"
      ]
     },
     "execution_count": 21,
     "metadata": {},
     "output_type": "execute_result"
    }
   ],
   "source": [
    "# similarity matrix\n",
    "similarity = cosine_similarity(X,X)\n",
    "similarity"
   ]
  },
  {
   "cell_type": "code",
   "execution_count": 22,
   "metadata": {},
   "outputs": [],
   "source": [
    "def get_index_from_title(title):\n",
    "    try:\n",
    "        return df[df.title == title].index[0]\n",
    "    except:\n",
    "        return None"
   ]
  },
  {
   "cell_type": "code",
   "execution_count": null,
   "metadata": {},
   "outputs": [],
   "source": [
    "\n",
    "def recommend_movie(title, limit = 10):\n",
    "    index = get_index_from_title(title)\n",
    "    if index is None:\n",
    "        return []\n",
    "    else:\n",
    "        movie_scores = []\n",
    "        for i in range(similarity.shape[0]):\n",
    "            movie_scores.append((df['title'][i], similarity[index][i]))\n",
    "        movie_scores.sort(key = lambda x: x[1], reverse = True)\n",
    "        return movie_scores[1:limit+1]"
   ]
  },
  {
   "cell_type": "code",
   "execution_count": null,
   "metadata": {},
   "outputs": [],
   "source": []
  },
  {
   "cell_type": "code",
   "execution_count": null,
   "metadata": {},
   "outputs": [],
   "source": [
    "def recommend_moviee(title, limit = 10):\n",
    "    index = get_index_from_title(title)\n",
    "    if index is None:\n",
    "        return []\n",
    "    else:\n",
    "        movie_scores = []\n",
    "        for i in range(similarity.shape[0]):\n",
    "            movie_scores.append((df['title'][i], similarity[index][i]))\n",
    "        movie_scores.sort(key = lambda x: x[1], reverse = True)\n",
    "        return movie_scores[1:limit+1]"
   ]
  },
  {
   "cell_type": "code",
   "execution_count": 26,
   "metadata": {},
   "outputs": [
    {
     "data": {
      "text/plain": [
       "[('Harry Potter and the Goblet of Fire', 0.8571428571428569),\n",
       " ('Harry Potter and the Goblet of Fire', 0.8571428571428569),\n",
       " ('Harry Potter and the Prisoner of Azkaban', 0.4285714285714285),\n",
       " (\"Harry Potter and the Sorcerer's Stone\", 0.4285714285714285),\n",
       " ('Harry Potter and the Deathly Hallows: Part 2', 0.40089186286863654)]"
      ]
     },
     "execution_count": 26,
     "metadata": {},
     "output_type": "execute_result"
    }
   ],
   "source": [
    "recommend_movie('Harry Potter and the Goblet of Fire', 5)"
   ]
  },
  {
   "cell_type": "code",
   "execution_count": null,
   "metadata": {},
   "outputs": [],
   "source": []
  }
 ],
 "metadata": {
  "kernelspec": {
   "display_name": "mlbatch24",
   "language": "python",
   "name": "python3"
  },
  "language_info": {
   "codemirror_mode": {
    "name": "ipython",
    "version": 3
   },
   "file_extension": ".py",
   "mimetype": "text/x-python",
   "name": "python",
   "nbconvert_exporter": "python",
   "pygments_lexer": "ipython3",
   "version": "3.11.8"
  }
 },
 "nbformat": 4,
 "nbformat_minor": 2
}
