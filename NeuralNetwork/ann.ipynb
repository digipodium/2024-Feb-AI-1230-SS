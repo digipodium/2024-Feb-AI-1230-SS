{
 "cells": [
  {
   "cell_type": "code",
   "execution_count": null,
   "metadata": {},
   "outputs": [],
   "source": [
    "import pandas as pd"
   ]
  },
  {
   "cell_type": "code",
   "execution_count": null,
   "metadata": {},
   "outputs": [],
   "source": [
    "df = pd.read_csv('https://raw.githubusercontent.com/digipodium/Datasets/main/classfication/bank_data.csv')\n",
    "df"
   ]
  },
  {
   "cell_type": "code",
   "execution_count": null,
   "metadata": {},
   "outputs": [],
   "source": [
    "from sklearn.preprocessing import OrdinalEncoder\n",
    "from sklearn.preprocessing import OneHotEncoder\n",
    "from sklearn.compose import ColumnTransformer\n",
    "from sklearn.pipeline import Pipeline\n",
    "from sklearn.model_selection import train_test_split\n",
    "from sklearn.preprocessing import StandardScaler"
   ]
  },
  {
   "cell_type": "code",
   "execution_count": null,
   "metadata": {},
   "outputs": [],
   "source": [
    "num_cols = df.select_dtypes(include='number').columns.tolist()\n",
    "num_cols.remove('Exited')\n",
    "cat_cols = df.select_dtypes(exclude='number').columns.tolist()\n",
    "num_pipe = Pipeline([\n",
    "    ('scaler', StandardScaler())\n",
    "])\n",
    "cat_pipe = Pipeline([\n",
    "    ('encoder', OrdinalEncoder())\n",
    "])\n",
    "preprocessor = ColumnTransformer([\n",
    "    ('num', num_pipe, num_cols),\n",
    "    ('cat', cat_pipe, cat_cols)\n",
    "])\n",
    "preprocessor"
   ]
  },
  {
   "cell_type": "code",
   "execution_count": null,
   "metadata": {},
   "outputs": [],
   "source": [
    "X = df.drop('Exited', axis=1)\n",
    "y = df['Exited']\n",
    "X = preprocessor.fit_transform(X)\n",
    "X_train, X_test, y_train, y_test = train_test_split(X, y, test_size=0.2, random_state=42)"
   ]
  },
  {
   "cell_type": "markdown",
   "metadata": {},
   "source": [
    "sequential ann"
   ]
  },
  {
   "cell_type": "code",
   "execution_count": null,
   "metadata": {},
   "outputs": [],
   "source": [
    "import tensorflow as tf\n",
    "import warnings\n",
    "warnings.filterwarnings('ignore')\n",
    "tf.__version__"
   ]
  },
  {
   "cell_type": "code",
   "execution_count": null,
   "metadata": {},
   "outputs": [],
   "source": [
    "X_train.shape"
   ]
  },
  {
   "cell_type": "code",
   "execution_count": null,
   "metadata": {},
   "outputs": [],
   "source": [
    "# classification nn model\n",
    "model =  tf.keras.models.Sequential()\n",
    "# 1st hidden layer (+ input layer)\n",
    "model.add(\n",
    "    tf.keras.layers.Dense(units=6, activation='relu', input_dim=X_train.shape[1])\n",
    ")\n",
    "# 2nd hidden layer\n",
    "model.add(tf.keras.layers.Dense(units=6, activation='relu'))\n",
    "# output layer\n",
    "model.add(tf.keras.layers.Dense(units=1, activation='sigmoid')) \n",
    "# sigmoid activation function for binary classification\n",
    "# softmax for multi-class classification\n",
    "# linear for regression\n",
    "\n",
    "# compile model\n",
    "model.compile(\n",
    "    optimizer='adam', # gradient descent algorithm - Adam is the best\n",
    "    loss='binary_crossentropy',\n",
    ")\n",
    "# bimary_crossentropy for binary classification\n",
    "# categorical_crossentropy for multi-class classification\n",
    "# mean_squared_error for regression\n",
    "\n",
    "# summary\n",
    "model.summary()"
   ]
  },
  {
   "cell_type": "code",
   "execution_count": null,
   "metadata": {},
   "outputs": [],
   "source": [
    "# config\n",
    "epochs = 100\n",
    "batch_size = 8\n",
    "patience = 10\n",
    "\n",
    "# early stopping\n",
    "es = tf.keras.callbacks.EarlyStopping(\n",
    "    monitor='val_loss',\n",
    "    patience=patience,\n",
    ")\n",
    "\n",
    "# train model\n",
    "history = model.fit(\n",
    "    X_train,                # feature matrix\n",
    "    y_train,                # target vector\n",
    "    validation_split=0.2,   # 20% data for validation\n",
    "    epochs=epochs,          # number of epochs\n",
    "    batch_size=batch_size,  # batch size\n",
    "    callbacks=[es],         # early stopping\n",
    "    verbose=1               # print output \n",
    ")"
   ]
  },
  {
   "cell_type": "code",
   "execution_count": null,
   "metadata": {},
   "outputs": [],
   "source": [
    "# visualize training history\n",
    "import matplotlib.pyplot as plt\n",
    "plt.plot(history.history['loss'], label='train', marker='o', color='r')\n",
    "plt.plot(history.history['val_loss'], label='validation')\n",
    "plt.legend()\n",
    "plt.show()"
   ]
  },
  {
   "cell_type": "code",
   "execution_count": null,
   "metadata": {},
   "outputs": [],
   "source": [
    "model.evaluate(X_test, y_test)"
   ]
  },
  {
   "cell_type": "code",
   "execution_count": 39,
   "metadata": {},
   "outputs": [],
   "source": [
    "# save the model to disk\n",
    "model.save('model_v1.h5') # creates a HDF5 file 'model_v1.h5'"
   ]
  },
  {
   "cell_type": "code",
   "execution_count": 41,
   "metadata": {},
   "outputs": [],
   "source": [
    "# save weights to disk\n",
    "model.save_weights('model_weights_v1.h5') # creates a HDF5 file 'model_weights_v1.h5'"
   ]
  },
  {
   "cell_type": "code",
   "execution_count": 43,
   "metadata": {},
   "outputs": [],
   "source": [
    "# load the model from disk\n",
    "model = tf.keras.models.load_model('model_v1.h5')"
   ]
  },
  {
   "cell_type": "code",
   "execution_count": null,
   "metadata": {},
   "outputs": [],
   "source": [
    "# load weights from disk\n",
    "# declare the model as you did before\n",
    "# model =  tf.keras.models.Sequential()\n",
    "# model.add(...)\n",
    "# model.compile(...)\n",
    "# model.load_weights('model_weights_v1.h5')"
   ]
  },
  {
   "cell_type": "code",
   "execution_count": 46,
   "metadata": {},
   "outputs": [
    {
     "name": "stdout",
     "output_type": "stream",
     "text": [
      "63/63 [==============================] - 0s 906us/step\n",
      "[[False]\n",
      " [False]\n",
      " [False]\n",
      " ...\n",
      " [False]\n",
      " [False]\n",
      " [False]]\n"
     ]
    }
   ],
   "source": [
    "# predict   \n",
    "y_pred = model.predict(X_test)\n",
    "y_pred = (y_pred > 0.5) # convert probabilities to binary values\n",
    "print(y_pred)\n"
   ]
  },
  {
   "cell_type": "code",
   "execution_count": null,
   "metadata": {},
   "outputs": [],
   "source": []
  }
 ],
 "metadata": {
  "kernelspec": {
   "display_name": "mlbatch24",
   "language": "python",
   "name": "python3"
  },
  "language_info": {
   "codemirror_mode": {
    "name": "ipython",
    "version": 3
   },
   "file_extension": ".py",
   "mimetype": "text/x-python",
   "name": "python",
   "nbconvert_exporter": "python",
   "pygments_lexer": "ipython3",
   "version": "3.11.8"
  }
 },
 "nbformat": 4,
 "nbformat_minor": 2
}
